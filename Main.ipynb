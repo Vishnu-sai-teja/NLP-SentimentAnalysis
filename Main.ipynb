{
 "cells": [
  {
   "cell_type": "code",
   "execution_count": 1,
   "id": "3a846a63-1ad5-460d-979e-fb90e43cb88b",
   "metadata": {},
   "outputs": [],
   "source": [
    "import numpy as np\n",
    "import pandas as pd"
   ]
  },
  {
   "cell_type": "code",
   "execution_count": 2,
   "id": "eea7697f-3d8d-4ea1-bd5f-d6e81b851ca5",
   "metadata": {},
   "outputs": [],
   "source": [
    "trainingData = pd.read_csv('training_twitter_x_y_train (1).csv')\n",
    "testingData = pd.read_csv('test_twitter_x_test.csv')"
   ]
  },
  {
   "cell_type": "raw",
   "id": "7797503d-e5fb-49a0-a141-5e158f919185",
   "metadata": {},
   "source": [
    "Here is what i am thingking of\n",
    "1 - Analyze the data in the first place"
   ]
  },
  {
   "cell_type": "code",
   "execution_count": 3,
   "id": "f4045b2b-3293-47f9-baad-f6ee8dbbaa36",
   "metadata": {},
   "outputs": [
    {
     "data": {
      "text/html": [
       "<div>\n",
       "<style scoped>\n",
       "    .dataframe tbody tr th:only-of-type {\n",
       "        vertical-align: middle;\n",
       "    }\n",
       "\n",
       "    .dataframe tbody tr th {\n",
       "        vertical-align: top;\n",
       "    }\n",
       "\n",
       "    .dataframe thead th {\n",
       "        text-align: right;\n",
       "    }\n",
       "</style>\n",
       "<table border=\"1\" class=\"dataframe\">\n",
       "  <thead>\n",
       "    <tr style=\"text-align: right;\">\n",
       "      <th></th>\n",
       "      <th>tweet_id</th>\n",
       "      <th>airline_sentiment</th>\n",
       "      <th>airline</th>\n",
       "      <th>airline_sentiment_gold</th>\n",
       "      <th>name</th>\n",
       "      <th>negativereason_gold</th>\n",
       "      <th>retweet_count</th>\n",
       "      <th>text</th>\n",
       "      <th>tweet_coord</th>\n",
       "      <th>tweet_created</th>\n",
       "      <th>tweet_location</th>\n",
       "      <th>user_timezone</th>\n",
       "    </tr>\n",
       "  </thead>\n",
       "  <tbody>\n",
       "    <tr>\n",
       "      <th>0</th>\n",
       "      <td>567900433542488064</td>\n",
       "      <td>negative</td>\n",
       "      <td>Southwest</td>\n",
       "      <td>NaN</td>\n",
       "      <td>ColeyGirouard</td>\n",
       "      <td>NaN</td>\n",
       "      <td>0</td>\n",
       "      <td>@SouthwestAir I am scheduled for the morning, ...</td>\n",
       "      <td>NaN</td>\n",
       "      <td>2015-02-17 20:16:29 -0800</td>\n",
       "      <td>Washington D.C.</td>\n",
       "      <td>Atlantic Time (Canada)</td>\n",
       "    </tr>\n",
       "    <tr>\n",
       "      <th>1</th>\n",
       "      <td>569989168903819264</td>\n",
       "      <td>positive</td>\n",
       "      <td>Southwest</td>\n",
       "      <td>NaN</td>\n",
       "      <td>WalterFaddoul</td>\n",
       "      <td>NaN</td>\n",
       "      <td>0</td>\n",
       "      <td>@SouthwestAir seeing your workers time in and ...</td>\n",
       "      <td>NaN</td>\n",
       "      <td>2015-02-23 14:36:22 -0800</td>\n",
       "      <td>Indianapolis, Indiana; USA</td>\n",
       "      <td>Central Time (US &amp; Canada)</td>\n",
       "    </tr>\n",
       "    <tr>\n",
       "      <th>2</th>\n",
       "      <td>568089179520954368</td>\n",
       "      <td>positive</td>\n",
       "      <td>United</td>\n",
       "      <td>NaN</td>\n",
       "      <td>LocalKyle</td>\n",
       "      <td>NaN</td>\n",
       "      <td>0</td>\n",
       "      <td>@united Flew ORD to Miami and back and  had gr...</td>\n",
       "      <td>NaN</td>\n",
       "      <td>2015-02-18 08:46:29 -0800</td>\n",
       "      <td>Illinois</td>\n",
       "      <td>Central Time (US &amp; Canada)</td>\n",
       "    </tr>\n",
       "    <tr>\n",
       "      <th>3</th>\n",
       "      <td>568928195581513728</td>\n",
       "      <td>negative</td>\n",
       "      <td>Southwest</td>\n",
       "      <td>NaN</td>\n",
       "      <td>amccarthy19</td>\n",
       "      <td>NaN</td>\n",
       "      <td>0</td>\n",
       "      <td>@SouthwestAir @dultch97 that's horse radish 😤🐴</td>\n",
       "      <td>NaN</td>\n",
       "      <td>2015-02-20 16:20:26 -0800</td>\n",
       "      <td>NaN</td>\n",
       "      <td>Atlantic Time (Canada)</td>\n",
       "    </tr>\n",
       "    <tr>\n",
       "      <th>4</th>\n",
       "      <td>568594180014014464</td>\n",
       "      <td>negative</td>\n",
       "      <td>United</td>\n",
       "      <td>NaN</td>\n",
       "      <td>J_Okayy</td>\n",
       "      <td>NaN</td>\n",
       "      <td>0</td>\n",
       "      <td>@united so our flight into ORD was delayed bec...</td>\n",
       "      <td>NaN</td>\n",
       "      <td>2015-02-19 18:13:11 -0800</td>\n",
       "      <td>NaN</td>\n",
       "      <td>Eastern Time (US &amp; Canada)</td>\n",
       "    </tr>\n",
       "  </tbody>\n",
       "</table>\n",
       "</div>"
      ],
      "text/plain": [
       "             tweet_id airline_sentiment    airline airline_sentiment_gold   \n",
       "0  567900433542488064          negative  Southwest                    NaN  \\\n",
       "1  569989168903819264          positive  Southwest                    NaN   \n",
       "2  568089179520954368          positive     United                    NaN   \n",
       "3  568928195581513728          negative  Southwest                    NaN   \n",
       "4  568594180014014464          negative     United                    NaN   \n",
       "\n",
       "            name negativereason_gold  retweet_count   \n",
       "0  ColeyGirouard                 NaN              0  \\\n",
       "1  WalterFaddoul                 NaN              0   \n",
       "2      LocalKyle                 NaN              0   \n",
       "3    amccarthy19                 NaN              0   \n",
       "4        J_Okayy                 NaN              0   \n",
       "\n",
       "                                                text tweet_coord   \n",
       "0  @SouthwestAir I am scheduled for the morning, ...         NaN  \\\n",
       "1  @SouthwestAir seeing your workers time in and ...         NaN   \n",
       "2  @united Flew ORD to Miami and back and  had gr...         NaN   \n",
       "3     @SouthwestAir @dultch97 that's horse radish 😤🐴         NaN   \n",
       "4  @united so our flight into ORD was delayed bec...         NaN   \n",
       "\n",
       "               tweet_created              tweet_location   \n",
       "0  2015-02-17 20:16:29 -0800             Washington D.C.  \\\n",
       "1  2015-02-23 14:36:22 -0800  Indianapolis, Indiana; USA   \n",
       "2  2015-02-18 08:46:29 -0800                    Illinois   \n",
       "3  2015-02-20 16:20:26 -0800                         NaN   \n",
       "4  2015-02-19 18:13:11 -0800                         NaN   \n",
       "\n",
       "                user_timezone  \n",
       "0      Atlantic Time (Canada)  \n",
       "1  Central Time (US & Canada)  \n",
       "2  Central Time (US & Canada)  \n",
       "3      Atlantic Time (Canada)  \n",
       "4  Eastern Time (US & Canada)  "
      ]
     },
     "execution_count": 3,
     "metadata": {},
     "output_type": "execute_result"
    }
   ],
   "source": [
    "trainingData.head()"
   ]
  },
  {
   "cell_type": "markdown",
   "id": "f40e6386-9ce0-4244-b427-588aeffb7bd6",
   "metadata": {},
   "source": [
    "* The important of all the features of the data would be `airline_sentiment` and `text`"
   ]
  },
  {
   "cell_type": "code",
   "execution_count": 4,
   "id": "25e2918e-15b7-4598-8efe-f6f770122568",
   "metadata": {},
   "outputs": [
    {
     "data": {
      "text/plain": [
       "(10980, 3660)"
      ]
     },
     "execution_count": 4,
     "metadata": {},
     "output_type": "execute_result"
    }
   ],
   "source": [
    "len(trainingData),len(testingData)"
   ]
  },
  {
   "cell_type": "markdown",
   "id": "3dc047ec-8583-4e49-afea-b7d989ec326b",
   "metadata": {},
   "source": [
    "#### Modification-1 \n",
    "- As the test data is free of lables we keep a part of training data aside for testing"
   ]
  },
  {
   "cell_type": "code",
   "execution_count": 5,
   "id": "d57abda3-76da-40c7-a6b1-667917d0a6dd",
   "metadata": {},
   "outputs": [],
   "source": [
    "from sklearn.model_selection import train_test_split"
   ]
  },
  {
   "cell_type": "code",
   "execution_count": 6,
   "id": "7a352a34-98d1-4f77-9e46-2eeff6da62b7",
   "metadata": {},
   "outputs": [],
   "source": [
    "trainingDataX,trainTesterX,testingDataY,trainTesterY = train_test_split(trainingData['text'],trainingData['airline_sentiment'],\n",
    "                                                                        random_state = 42,test_size = 0.1)"
   ]
  },
  {
   "cell_type": "markdown",
   "id": "1c44db50-efee-4d86-90b1-a7d45e2113f6",
   "metadata": {},
   "source": [
    "` Looking into the data of text and sentiments `"
   ]
  },
  {
   "cell_type": "code",
   "execution_count": 7,
   "id": "1f6f6e1c-47ed-4ce2-a190-4fc166aa928a",
   "metadata": {},
   "outputs": [
    {
     "data": {
      "text/plain": [
       "0    @SouthwestAir I am scheduled for the morning, ...\n",
       "1    @SouthwestAir seeing your workers time in and ...\n",
       "2    @united Flew ORD to Miami and back and  had gr...\n",
       "3       @SouthwestAir @dultch97 that's horse radish 😤🐴\n",
       "4    @united so our flight into ORD was delayed bec...\n",
       "5    @united Why did you load us in this flying sar...\n",
       "6    @JetBlue that is a stock response. Delays not ...\n",
       "7    @JetBlue That'd be nice! Hoping to rack up eno...\n",
       "8    @united frankly worse customer service ever. P...\n",
       "9    @SouthwestAir yeah haha. Never been in one. It...\n",
       "Name: text, dtype: object"
      ]
     },
     "execution_count": 7,
     "metadata": {},
     "output_type": "execute_result"
    }
   ],
   "source": [
    "trainingData['text'][:10]"
   ]
  },
  {
   "cell_type": "code",
   "execution_count": 8,
   "id": "ee726b6d-0d52-43a1-9f8f-d2f06164ec04",
   "metadata": {},
   "outputs": [],
   "source": [
    "trainingDataX = [i for i in trainingDataX]\n",
    "testingDataY = [i for i in testingDataY]\n",
    "trainTesterX = [i for i in trainTesterX]\n",
    "trainTesterY = [i for i in trainTesterY]\n",
    "testingDataX = testingData['text']"
   ]
  },
  {
   "cell_type": "code",
   "execution_count": 9,
   "id": "bd7317b5-29cd-4cf5-a817-dee81d1dfd29",
   "metadata": {},
   "outputs": [],
   "source": [
    "# Convert into the required NLTK format\n",
    "trainDocument = []\n",
    "for i in range(0,len(trainingDataX)) :\n",
    "    trainDocument.append((trainingDataX[i],testingDataY[i]))\n",
    "trainTester = []\n",
    "for i in range(0,len(trainTesterX)) :\n",
    "    trainTester.append((trainTesterX[i],trainTesterY[i]))\n",
    "testDocument = []\n",
    "for i in range(0,len(testingData)) :\n",
    "    testDocument.append((testingDataX[i]))"
   ]
  },
  {
   "cell_type": "markdown",
   "id": "d8435ce9-53b3-4780-b85a-d162ded96c9c",
   "metadata": {},
   "source": [
    "#### Stop words\n",
    "\n",
    "* Emoji stuff is managed by the `max_df` and `min_df`(document frequency) of `countVectorizer`\n",
    "* Links are also managed by the same above"
   ]
  },
  {
   "cell_type": "code",
   "execution_count": 10,
   "id": "1b0d962a-2172-496b-90af-10083505b7fb",
   "metadata": {},
   "outputs": [],
   "source": [
    "from nltk.corpus import stopwords\n",
    "stopWords = stopwords.words('english')"
   ]
  },
  {
   "cell_type": "code",
   "execution_count": 11,
   "id": "6dd63fbc-f0d8-4192-8341-db9cd2722ba1",
   "metadata": {},
   "outputs": [],
   "source": [
    "#Add punctuations into the stop words\n",
    "from string import punctuation\n",
    "puncList = [char for char in punctuation]\n",
    "stopWords += puncList"
   ]
  },
  {
   "cell_type": "markdown",
   "id": "431c7398-e6d3-4c53-869e-af127a993545",
   "metadata": {},
   "source": [
    "#### Sentence Cleaning\n",
    "* We are using the lemmatization and removal of stop words\n",
    "* `@` are only indicating the person so it has nothing to do with the sentimental view "
   ]
  },
  {
   "cell_type": "code",
   "execution_count": 12,
   "id": "65c86d95-3154-4019-bf6f-60d074c8ad9a",
   "metadata": {},
   "outputs": [],
   "source": [
    "from nltk.stem import WordNetLemmatizer\n",
    "from nltk import pos_tag"
   ]
  },
  {
   "cell_type": "code",
   "execution_count": 13,
   "id": "40110051-7ff8-4600-95d4-8b554cf7157e",
   "metadata": {},
   "outputs": [],
   "source": [
    "# Getting pos tag for lemmatization \n",
    "def getPos(category) :\n",
    "    if category.startswith('N') :\n",
    "        return 'n'\n",
    "    elif category.startswith('J') :\n",
    "        # Represents the adjective\n",
    "        return 'a'\n",
    "    elif category.startswith('R') :\n",
    "        # Represents a adverb\n",
    "        return 'r'\n",
    "    elif category.startswith('V') :\n",
    "        # Represnts a Verb\n",
    "        return 'v'\n",
    "    else : return 'n'\n",
    "\n",
    "# Creating a funciton for word cleaning\n",
    "def sentenceCleaning(doc) :\n",
    "    text = doc[0]\n",
    "    newWords = []\n",
    "    lemmatizer = WordNetLemmatizer()\n",
    "    for word in text.split() :\n",
    "        if word.lower() not in stopWords and not word.startswith('@') :\n",
    "            # Alse considering the links\n",
    "            if not word.startswith('http') :\n",
    "                posTag = pos_tag([word])\n",
    "                word = lemmatizer.lemmatize(word,getPos(posTag[0][1]));\n",
    "                newWords.append(word.lower())\n",
    "    return newWords"
   ]
  },
  {
   "cell_type": "code",
   "execution_count": 14,
   "id": "91bb5aa3-2eea-4b92-8b09-180c801386a8",
   "metadata": {},
   "outputs": [],
   "source": [
    "trainingDocs = []\n",
    "for i in range(0,len(trainDocument)) :\n",
    "    modData = sentenceCleaning(trainDocument[i])\n",
    "    trainingDocs.append((modData,trainDocument[i][1]))    "
   ]
  },
  {
   "cell_type": "code",
   "execution_count": 15,
   "id": "2bebaec2-b369-4b0c-b1a1-f20e1fbba950",
   "metadata": {},
   "outputs": [
    {
     "data": {
      "text/plain": [
       "(9882, 10980)"
      ]
     },
     "execution_count": 15,
     "metadata": {},
     "output_type": "execute_result"
    }
   ],
   "source": [
    "len(trainingDocs),len(trainingData)"
   ]
  },
  {
   "cell_type": "code",
   "execution_count": 16,
   "id": "ff681a38-993b-4e35-b3ce-e767ae1c66c3",
   "metadata": {},
   "outputs": [],
   "source": [
    "test = []\n",
    "for i in range(0,len(trainTester)) :\n",
    "    modData = sentenceCleaning(trainTester[i])\n",
    "    test.append((modData,trainTester[i][1]))    "
   ]
  },
  {
   "cell_type": "code",
   "execution_count": 17,
   "id": "cbc0690f-4aa4-4c84-93f4-690f01af51fb",
   "metadata": {},
   "outputs": [],
   "source": [
    "testingDocs = []\n",
    "for i in range(0,len(testDocument)) :\n",
    "    modData = sentenceCleaning([testDocument[i]])\n",
    "    testingDocs.append((modData))"
   ]
  },
  {
   "cell_type": "markdown",
   "id": "adbb4ee1-3fec-43c5-a489-7e96f7f1accc",
   "metadata": {},
   "source": [
    "#### 2-Ways\n",
    "* Convert the data into sklearn x and y format for easy acess to countVectorizer\n",
    "* Go by the way of nltk.calssify\n",
    "  - Here we can also use the nltk suit for sklearn calssifier to train"
   ]
  },
  {
   "cell_type": "code",
   "execution_count": 18,
   "id": "654ef3fe-0ddf-45bb-88db-d986b4243abd",
   "metadata": {},
   "outputs": [],
   "source": [
    "# Going by the first way we have"
   ]
  },
  {
   "cell_type": "code",
   "execution_count": 19,
   "id": "304fdd8c-8f65-42ac-8136-53d0453a9b96",
   "metadata": {},
   "outputs": [],
   "source": [
    "# Converting the data we have\n",
    "X_train = [' '.join(doc[0]) for doc in trainingDocs]\n",
    "y_train = testingDataY"
   ]
  },
  {
   "cell_type": "code",
   "execution_count": 20,
   "id": "b54622fe-d0e6-44e4-ba33-15075dc7e27b",
   "metadata": {},
   "outputs": [],
   "source": [
    "X_trainTester = [' '.join(doc[0]) for doc in test]\n",
    "y_trainTester = trainTesterY"
   ]
  },
  {
   "cell_type": "code",
   "execution_count": 21,
   "id": "894b9174-4c75-44db-9ed0-63d18a30c6bf",
   "metadata": {},
   "outputs": [],
   "source": [
    "X_test = [' '.join(doc) for doc in testingDocs]"
   ]
  },
  {
   "cell_type": "markdown",
   "id": "3104602e-e78b-40a4-99c5-0a4e464f0c87",
   "metadata": {},
   "source": [
    "#### CountVectorizer \n",
    "* Used to auto tokenize our data based on the number of `features` and also the values of `document frequencies`\n",
    "* For the purpose of creating a sparse matrix of all the required info.\n",
    "  - Tokenized\n",
    "  - Featrue Selection\n",
    "  - Ifnore words with least `TF*IDF`\n",
    "  - Ignore words with high `df` and least `df`\n",
    "  - Get the data in the format of tf"
   ]
  },
  {
   "cell_type": "code",
   "execution_count": 22,
   "id": "1f2089a2-2429-4f94-af9a-24ce3f011eb3",
   "metadata": {},
   "outputs": [],
   "source": [
    "from sklearn.feature_extraction.text import CountVectorizer"
   ]
  },
  {
   "cell_type": "code",
   "execution_count": 23,
   "id": "1f133a6e-1482-4f22-b846-335cedc29a87",
   "metadata": {},
   "outputs": [],
   "source": [
    "classifier = CountVectorizer(max_features=1000,\n",
    "                             max_df=0.96,\n",
    "                             min_df=0.001,\n",
    "                             ngram_range=(1,3)\n",
    "                         )"
   ]
  },
  {
   "cell_type": "code",
   "execution_count": 24,
   "id": "a04d85be-167d-4c64-b158-8f1cf3666cfe",
   "metadata": {},
   "outputs": [],
   "source": [
    "X_trainSparse = classifier.fit_transform(X_train)\n",
    "X_testSparse = classifier.transform(X_test)"
   ]
  },
  {
   "cell_type": "code",
   "execution_count": 25,
   "id": "fdc21cdf-a381-4c68-9bc8-d97de6be30e1",
   "metadata": {},
   "outputs": [],
   "source": [
    "trainTesterSparse = classifier.transform(X_trainTester)"
   ]
  },
  {
   "cell_type": "code",
   "execution_count": 26,
   "id": "35ebf279-e117-4f13-bd8d-70e4fa467dfe",
   "metadata": {},
   "outputs": [
    {
     "data": {
      "text/plain": [
       "(9882, 1000)"
      ]
     },
     "execution_count": 26,
     "metadata": {},
     "output_type": "execute_result"
    }
   ],
   "source": [
    "X_trainSparse.todense().shape"
   ]
  },
  {
   "cell_type": "code",
   "execution_count": 27,
   "id": "b2c5b9a3-be29-4e9a-bc93-20727d470a11",
   "metadata": {},
   "outputs": [
    {
     "data": {
      "text/plain": [
       "['landed hour late flight ind den, 40+ min late flightr, bag here. cool.',\n",
       " 'boarding process sucks. learn',\n",
       " '— exceptional service flight #403 ind phx!!',\n",
       " 'frustrating days!no flight home, change airlines. thank phl usairway employee &amp; help get back iah.',\n",
       " 'thanks. 25+ minute someone eventually help u take care it.',\n",
       " 'would like 2 speak vp #custexp jimmy samartzis! sent survey/email awful flight exp',\n",
       " 'awww man...but need buy ticket today home 1st march go this...or assist',\n",
       " 'need help reservation',\n",
       " 'understand wish would announce delay 2 hour earlier v sit 2 hr mco',\n",
       " 'website let change online even though airline issue travel advisory, hold 50 minutes. help.']"
      ]
     },
     "execution_count": 27,
     "metadata": {},
     "output_type": "execute_result"
    }
   ],
   "source": [
    "X_train[:10]"
   ]
  },
  {
   "cell_type": "markdown",
   "id": "a86c87a8-072f-4e9a-9c83-23cff9a3891c",
   "metadata": {},
   "source": [
    "#### Using Sklearn model - Random Forest\n",
    "* Beauty is that we can use the sparse matrix directly into the models"
   ]
  },
  {
   "cell_type": "code",
   "execution_count": 28,
   "id": "90fc81f5-bb87-4ef7-918a-a217bf466d40",
   "metadata": {},
   "outputs": [],
   "source": [
    "from sklearn.ensemble import RandomForestClassifier"
   ]
  },
  {
   "cell_type": "code",
   "execution_count": 29,
   "id": "41fa7af5-04ae-44a3-953f-d0cccd61299f",
   "metadata": {},
   "outputs": [],
   "source": [
    "classifier = RandomForestClassifier()"
   ]
  },
  {
   "cell_type": "markdown",
   "id": "dff7266e-f455-4cb0-a59f-1fe028e93528",
   "metadata": {},
   "source": [
    "#### Grid Search CV \n",
    "* To get optimal values of the attributes we use the random values\n",
    "  - In form of a grid\n"
   ]
  },
  {
   "cell_type": "code",
   "execution_count": 30,
   "id": "a0455535-b006-4d34-8156-597ddec0fbbc",
   "metadata": {},
   "outputs": [],
   "source": [
    "from sklearn.model_selection import GridSearchCV"
   ]
  },
  {
   "cell_type": "code",
   "execution_count": 31,
   "id": "b0e32674-ddc7-4a6c-a471-f24c91d9b3ff",
   "metadata": {},
   "outputs": [],
   "source": [
    "grid = {'n_estimators' : [100,150,200]}"
   ]
  },
  {
   "cell_type": "code",
   "execution_count": 32,
   "id": "fcd28c89-95d4-454c-b12e-4aca16cfa49a",
   "metadata": {},
   "outputs": [],
   "source": [
    "gridClassifier = GridSearchCV(classifier,grid)"
   ]
  },
  {
   "cell_type": "code",
   "execution_count": 33,
   "id": "cfc28c03-154f-4f9d-bbf0-eadb10c9dea7",
   "metadata": {},
   "outputs": [
    {
     "data": {
      "text/html": [
       "<style>#sk-container-id-1 {color: black;background-color: white;}#sk-container-id-1 pre{padding: 0;}#sk-container-id-1 div.sk-toggleable {background-color: white;}#sk-container-id-1 label.sk-toggleable__label {cursor: pointer;display: block;width: 100%;margin-bottom: 0;padding: 0.3em;box-sizing: border-box;text-align: center;}#sk-container-id-1 label.sk-toggleable__label-arrow:before {content: \"▸\";float: left;margin-right: 0.25em;color: #696969;}#sk-container-id-1 label.sk-toggleable__label-arrow:hover:before {color: black;}#sk-container-id-1 div.sk-estimator:hover label.sk-toggleable__label-arrow:before {color: black;}#sk-container-id-1 div.sk-toggleable__content {max-height: 0;max-width: 0;overflow: hidden;text-align: left;background-color: #f0f8ff;}#sk-container-id-1 div.sk-toggleable__content pre {margin: 0.2em;color: black;border-radius: 0.25em;background-color: #f0f8ff;}#sk-container-id-1 input.sk-toggleable__control:checked~div.sk-toggleable__content {max-height: 200px;max-width: 100%;overflow: auto;}#sk-container-id-1 input.sk-toggleable__control:checked~label.sk-toggleable__label-arrow:before {content: \"▾\";}#sk-container-id-1 div.sk-estimator input.sk-toggleable__control:checked~label.sk-toggleable__label {background-color: #d4ebff;}#sk-container-id-1 div.sk-label input.sk-toggleable__control:checked~label.sk-toggleable__label {background-color: #d4ebff;}#sk-container-id-1 input.sk-hidden--visually {border: 0;clip: rect(1px 1px 1px 1px);clip: rect(1px, 1px, 1px, 1px);height: 1px;margin: -1px;overflow: hidden;padding: 0;position: absolute;width: 1px;}#sk-container-id-1 div.sk-estimator {font-family: monospace;background-color: #f0f8ff;border: 1px dotted black;border-radius: 0.25em;box-sizing: border-box;margin-bottom: 0.5em;}#sk-container-id-1 div.sk-estimator:hover {background-color: #d4ebff;}#sk-container-id-1 div.sk-parallel-item::after {content: \"\";width: 100%;border-bottom: 1px solid gray;flex-grow: 1;}#sk-container-id-1 div.sk-label:hover label.sk-toggleable__label {background-color: #d4ebff;}#sk-container-id-1 div.sk-serial::before {content: \"\";position: absolute;border-left: 1px solid gray;box-sizing: border-box;top: 0;bottom: 0;left: 50%;z-index: 0;}#sk-container-id-1 div.sk-serial {display: flex;flex-direction: column;align-items: center;background-color: white;padding-right: 0.2em;padding-left: 0.2em;position: relative;}#sk-container-id-1 div.sk-item {position: relative;z-index: 1;}#sk-container-id-1 div.sk-parallel {display: flex;align-items: stretch;justify-content: center;background-color: white;position: relative;}#sk-container-id-1 div.sk-item::before, #sk-container-id-1 div.sk-parallel-item::before {content: \"\";position: absolute;border-left: 1px solid gray;box-sizing: border-box;top: 0;bottom: 0;left: 50%;z-index: -1;}#sk-container-id-1 div.sk-parallel-item {display: flex;flex-direction: column;z-index: 1;position: relative;background-color: white;}#sk-container-id-1 div.sk-parallel-item:first-child::after {align-self: flex-end;width: 50%;}#sk-container-id-1 div.sk-parallel-item:last-child::after {align-self: flex-start;width: 50%;}#sk-container-id-1 div.sk-parallel-item:only-child::after {width: 0;}#sk-container-id-1 div.sk-dashed-wrapped {border: 1px dashed gray;margin: 0 0.4em 0.5em 0.4em;box-sizing: border-box;padding-bottom: 0.4em;background-color: white;}#sk-container-id-1 div.sk-label label {font-family: monospace;font-weight: bold;display: inline-block;line-height: 1.2em;}#sk-container-id-1 div.sk-label-container {text-align: center;}#sk-container-id-1 div.sk-container {/* jupyter's `normalize.less` sets `[hidden] { display: none; }` but bootstrap.min.css set `[hidden] { display: none !important; }` so we also need the `!important` here to be able to override the default hidden behavior on the sphinx rendered scikit-learn.org. See: https://github.com/scikit-learn/scikit-learn/issues/21755 */display: inline-block !important;position: relative;}#sk-container-id-1 div.sk-text-repr-fallback {display: none;}</style><div id=\"sk-container-id-1\" class=\"sk-top-container\"><div class=\"sk-text-repr-fallback\"><pre>GridSearchCV(estimator=RandomForestClassifier(),\n",
       "             param_grid={&#x27;n_estimators&#x27;: [100, 150, 200]})</pre><b>In a Jupyter environment, please rerun this cell to show the HTML representation or trust the notebook. <br />On GitHub, the HTML representation is unable to render, please try loading this page with nbviewer.org.</b></div><div class=\"sk-container\" hidden><div class=\"sk-item sk-dashed-wrapped\"><div class=\"sk-label-container\"><div class=\"sk-label sk-toggleable\"><input class=\"sk-toggleable__control sk-hidden--visually\" id=\"sk-estimator-id-1\" type=\"checkbox\" ><label for=\"sk-estimator-id-1\" class=\"sk-toggleable__label sk-toggleable__label-arrow\">GridSearchCV</label><div class=\"sk-toggleable__content\"><pre>GridSearchCV(estimator=RandomForestClassifier(),\n",
       "             param_grid={&#x27;n_estimators&#x27;: [100, 150, 200]})</pre></div></div></div><div class=\"sk-parallel\"><div class=\"sk-parallel-item\"><div class=\"sk-item\"><div class=\"sk-label-container\"><div class=\"sk-label sk-toggleable\"><input class=\"sk-toggleable__control sk-hidden--visually\" id=\"sk-estimator-id-2\" type=\"checkbox\" ><label for=\"sk-estimator-id-2\" class=\"sk-toggleable__label sk-toggleable__label-arrow\">estimator: RandomForestClassifier</label><div class=\"sk-toggleable__content\"><pre>RandomForestClassifier()</pre></div></div></div><div class=\"sk-serial\"><div class=\"sk-item\"><div class=\"sk-estimator sk-toggleable\"><input class=\"sk-toggleable__control sk-hidden--visually\" id=\"sk-estimator-id-3\" type=\"checkbox\" ><label for=\"sk-estimator-id-3\" class=\"sk-toggleable__label sk-toggleable__label-arrow\">RandomForestClassifier</label><div class=\"sk-toggleable__content\"><pre>RandomForestClassifier()</pre></div></div></div></div></div></div></div></div></div></div>"
      ],
      "text/plain": [
       "GridSearchCV(estimator=RandomForestClassifier(),\n",
       "             param_grid={'n_estimators': [100, 150, 200]})"
      ]
     },
     "execution_count": 33,
     "metadata": {},
     "output_type": "execute_result"
    }
   ],
   "source": [
    "gridClassifier.fit(X_trainSparse,y_train)"
   ]
  },
  {
   "cell_type": "code",
   "execution_count": 34,
   "id": "ae22a930-0732-4ac4-8d5b-09c8054d6483",
   "metadata": {},
   "outputs": [
    {
     "data": {
      "text/plain": [
       "0.985832827362882"
      ]
     },
     "execution_count": 34,
     "metadata": {},
     "output_type": "execute_result"
    }
   ],
   "source": [
    "gridClassifier.score(X_trainSparse,y_train)"
   ]
  },
  {
   "cell_type": "code",
   "execution_count": 35,
   "id": "c2bba5c9-00bf-4206-8029-f405c80d4eda",
   "metadata": {},
   "outputs": [
    {
     "data": {
      "text/plain": [
       "{'n_estimators': 200}"
      ]
     },
     "execution_count": 35,
     "metadata": {},
     "output_type": "execute_result"
    }
   ],
   "source": [
    "gridClassifier.best_params_"
   ]
  },
  {
   "cell_type": "markdown",
   "id": "0df57b64-f6da-440d-ae0c-e20047d9b7b1",
   "metadata": {},
   "source": [
    "#### Checking the score of the classifier of testing Data from training Set"
   ]
  },
  {
   "cell_type": "code",
   "execution_count": 36,
   "id": "1d727b98-8570-49e0-8f5b-2e650a596524",
   "metadata": {},
   "outputs": [
    {
     "data": {
      "text/plain": [
       "0.7367941712204007"
      ]
     },
     "execution_count": 36,
     "metadata": {},
     "output_type": "execute_result"
    }
   ],
   "source": [
    "gridClassifier.score(trainTesterSparse,trainTesterY)"
   ]
  },
  {
   "cell_type": "code",
   "execution_count": 37,
   "id": "70ca3dd8-6db9-44c2-8dda-44687d3ec2a5",
   "metadata": {},
   "outputs": [],
   "source": [
    "predictions = gridClassifier.predict(X_testSparse)"
   ]
  },
  {
   "cell_type": "code",
   "execution_count": 38,
   "id": "52bd2790-dea0-4e3c-ac47-4bebd0f6677f",
   "metadata": {},
   "outputs": [
    {
     "data": {
      "text/plain": [
       "('negative',\n",
       " \"@AmericanAir In car gng to DFW. Pulled over 1hr ago - very icy roads. On-hold with AA since 1hr. Can't reach arpt for AA2450. Wat 2 do?\")"
      ]
     },
     "execution_count": 38,
     "metadata": {},
     "output_type": "execute_result"
    }
   ],
   "source": [
    "predictions[0],testingDataX[0]"
   ]
  },
  {
   "cell_type": "markdown",
   "id": "b855a0ab-64b5-4515-9ebe-e3dda7013010",
   "metadata": {},
   "source": [
    "#### Using Sklearn Model - SVM"
   ]
  },
  {
   "cell_type": "code",
   "execution_count": 39,
   "id": "5db1184e-92d8-4619-8ed4-44c3121a9f6c",
   "metadata": {},
   "outputs": [],
   "source": [
    "from sklearn.svm import SVC"
   ]
  },
  {
   "cell_type": "code",
   "execution_count": 40,
   "id": "62b12213-851a-412b-aefc-75808980038c",
   "metadata": {},
   "outputs": [],
   "source": [
    "svmClassifier = SVC()"
   ]
  },
  {
   "cell_type": "code",
   "execution_count": 41,
   "id": "44d25b3b-28b1-4757-9c3d-3853c1cd95f4",
   "metadata": {},
   "outputs": [],
   "source": [
    "grider = {'C' : [1e2,1e3,1e4],\n",
    "       'gamma' : [1e-3,5e-4],}"
   ]
  },
  {
   "cell_type": "code",
   "execution_count": 42,
   "id": "13404705-b7e7-44d6-a36e-a7b3be3e43e8",
   "metadata": {},
   "outputs": [],
   "source": [
    "gridClassifierSvm = GridSearchCV(svmClassifier,grider)"
   ]
  },
  {
   "cell_type": "code",
   "execution_count": 43,
   "id": "142b2e02-d97e-4630-a868-efa5522f7302",
   "metadata": {},
   "outputs": [
    {
     "data": {
      "text/html": [
       "<style>#sk-container-id-2 {color: black;background-color: white;}#sk-container-id-2 pre{padding: 0;}#sk-container-id-2 div.sk-toggleable {background-color: white;}#sk-container-id-2 label.sk-toggleable__label {cursor: pointer;display: block;width: 100%;margin-bottom: 0;padding: 0.3em;box-sizing: border-box;text-align: center;}#sk-container-id-2 label.sk-toggleable__label-arrow:before {content: \"▸\";float: left;margin-right: 0.25em;color: #696969;}#sk-container-id-2 label.sk-toggleable__label-arrow:hover:before {color: black;}#sk-container-id-2 div.sk-estimator:hover label.sk-toggleable__label-arrow:before {color: black;}#sk-container-id-2 div.sk-toggleable__content {max-height: 0;max-width: 0;overflow: hidden;text-align: left;background-color: #f0f8ff;}#sk-container-id-2 div.sk-toggleable__content pre {margin: 0.2em;color: black;border-radius: 0.25em;background-color: #f0f8ff;}#sk-container-id-2 input.sk-toggleable__control:checked~div.sk-toggleable__content {max-height: 200px;max-width: 100%;overflow: auto;}#sk-container-id-2 input.sk-toggleable__control:checked~label.sk-toggleable__label-arrow:before {content: \"▾\";}#sk-container-id-2 div.sk-estimator input.sk-toggleable__control:checked~label.sk-toggleable__label {background-color: #d4ebff;}#sk-container-id-2 div.sk-label input.sk-toggleable__control:checked~label.sk-toggleable__label {background-color: #d4ebff;}#sk-container-id-2 input.sk-hidden--visually {border: 0;clip: rect(1px 1px 1px 1px);clip: rect(1px, 1px, 1px, 1px);height: 1px;margin: -1px;overflow: hidden;padding: 0;position: absolute;width: 1px;}#sk-container-id-2 div.sk-estimator {font-family: monospace;background-color: #f0f8ff;border: 1px dotted black;border-radius: 0.25em;box-sizing: border-box;margin-bottom: 0.5em;}#sk-container-id-2 div.sk-estimator:hover {background-color: #d4ebff;}#sk-container-id-2 div.sk-parallel-item::after {content: \"\";width: 100%;border-bottom: 1px solid gray;flex-grow: 1;}#sk-container-id-2 div.sk-label:hover label.sk-toggleable__label {background-color: #d4ebff;}#sk-container-id-2 div.sk-serial::before {content: \"\";position: absolute;border-left: 1px solid gray;box-sizing: border-box;top: 0;bottom: 0;left: 50%;z-index: 0;}#sk-container-id-2 div.sk-serial {display: flex;flex-direction: column;align-items: center;background-color: white;padding-right: 0.2em;padding-left: 0.2em;position: relative;}#sk-container-id-2 div.sk-item {position: relative;z-index: 1;}#sk-container-id-2 div.sk-parallel {display: flex;align-items: stretch;justify-content: center;background-color: white;position: relative;}#sk-container-id-2 div.sk-item::before, #sk-container-id-2 div.sk-parallel-item::before {content: \"\";position: absolute;border-left: 1px solid gray;box-sizing: border-box;top: 0;bottom: 0;left: 50%;z-index: -1;}#sk-container-id-2 div.sk-parallel-item {display: flex;flex-direction: column;z-index: 1;position: relative;background-color: white;}#sk-container-id-2 div.sk-parallel-item:first-child::after {align-self: flex-end;width: 50%;}#sk-container-id-2 div.sk-parallel-item:last-child::after {align-self: flex-start;width: 50%;}#sk-container-id-2 div.sk-parallel-item:only-child::after {width: 0;}#sk-container-id-2 div.sk-dashed-wrapped {border: 1px dashed gray;margin: 0 0.4em 0.5em 0.4em;box-sizing: border-box;padding-bottom: 0.4em;background-color: white;}#sk-container-id-2 div.sk-label label {font-family: monospace;font-weight: bold;display: inline-block;line-height: 1.2em;}#sk-container-id-2 div.sk-label-container {text-align: center;}#sk-container-id-2 div.sk-container {/* jupyter's `normalize.less` sets `[hidden] { display: none; }` but bootstrap.min.css set `[hidden] { display: none !important; }` so we also need the `!important` here to be able to override the default hidden behavior on the sphinx rendered scikit-learn.org. See: https://github.com/scikit-learn/scikit-learn/issues/21755 */display: inline-block !important;position: relative;}#sk-container-id-2 div.sk-text-repr-fallback {display: none;}</style><div id=\"sk-container-id-2\" class=\"sk-top-container\"><div class=\"sk-text-repr-fallback\"><pre>GridSearchCV(estimator=SVC(),\n",
       "             param_grid={&#x27;C&#x27;: [100.0, 1000.0, 10000.0],\n",
       "                         &#x27;gamma&#x27;: [0.001, 0.0005]})</pre><b>In a Jupyter environment, please rerun this cell to show the HTML representation or trust the notebook. <br />On GitHub, the HTML representation is unable to render, please try loading this page with nbviewer.org.</b></div><div class=\"sk-container\" hidden><div class=\"sk-item sk-dashed-wrapped\"><div class=\"sk-label-container\"><div class=\"sk-label sk-toggleable\"><input class=\"sk-toggleable__control sk-hidden--visually\" id=\"sk-estimator-id-4\" type=\"checkbox\" ><label for=\"sk-estimator-id-4\" class=\"sk-toggleable__label sk-toggleable__label-arrow\">GridSearchCV</label><div class=\"sk-toggleable__content\"><pre>GridSearchCV(estimator=SVC(),\n",
       "             param_grid={&#x27;C&#x27;: [100.0, 1000.0, 10000.0],\n",
       "                         &#x27;gamma&#x27;: [0.001, 0.0005]})</pre></div></div></div><div class=\"sk-parallel\"><div class=\"sk-parallel-item\"><div class=\"sk-item\"><div class=\"sk-label-container\"><div class=\"sk-label sk-toggleable\"><input class=\"sk-toggleable__control sk-hidden--visually\" id=\"sk-estimator-id-5\" type=\"checkbox\" ><label for=\"sk-estimator-id-5\" class=\"sk-toggleable__label sk-toggleable__label-arrow\">estimator: SVC</label><div class=\"sk-toggleable__content\"><pre>SVC()</pre></div></div></div><div class=\"sk-serial\"><div class=\"sk-item\"><div class=\"sk-estimator sk-toggleable\"><input class=\"sk-toggleable__control sk-hidden--visually\" id=\"sk-estimator-id-6\" type=\"checkbox\" ><label for=\"sk-estimator-id-6\" class=\"sk-toggleable__label sk-toggleable__label-arrow\">SVC</label><div class=\"sk-toggleable__content\"><pre>SVC()</pre></div></div></div></div></div></div></div></div></div></div>"
      ],
      "text/plain": [
       "GridSearchCV(estimator=SVC(),\n",
       "             param_grid={'C': [100.0, 1000.0, 10000.0],\n",
       "                         'gamma': [0.001, 0.0005]})"
      ]
     },
     "execution_count": 43,
     "metadata": {},
     "output_type": "execute_result"
    }
   ],
   "source": [
    "gridClassifierSvm.fit(X_trainSparse,y_train)"
   ]
  },
  {
   "cell_type": "code",
   "execution_count": 45,
   "id": "3878c58d-e4dd-40e5-8f76-ce9ebfa2dba7",
   "metadata": {},
   "outputs": [
    {
     "data": {
      "text/plain": [
       "{'C': 100.0, 'gamma': 0.0005}"
      ]
     },
     "execution_count": 45,
     "metadata": {},
     "output_type": "execute_result"
    }
   ],
   "source": [
    "# Get the optimal parameretes\n",
    "gridClassifierSvm.best_params_"
   ]
  },
  {
   "cell_type": "code",
   "execution_count": 46,
   "id": "12bfa348-dadc-4e11-acf9-c645bd3a8fd2",
   "metadata": {},
   "outputs": [
    {
     "data": {
      "text/plain": [
       "0.7531876138433515"
      ]
     },
     "execution_count": 46,
     "metadata": {},
     "output_type": "execute_result"
    }
   ],
   "source": [
    "gridClassifierSvm.score(trainTesterSparse,y_trainTester)"
   ]
  },
  {
   "cell_type": "code",
   "execution_count": 47,
   "id": "c3ef9637-0165-40d5-8df1-650a6278cfee",
   "metadata": {},
   "outputs": [],
   "source": [
    "predictions = gridClassifierSvm.predict(X_testSparse)"
   ]
  },
  {
   "cell_type": "code",
   "execution_count": 55,
   "id": "c215c144-0539-4583-a86c-cad6d5276095",
   "metadata": {},
   "outputs": [
    {
     "data": {
      "text/plain": [
       "('negative',\n",
       " '@united your announcement for pre boarding only addresses mobility. My disability requires me to travel with a lot of stuff. Do I preboard?')"
      ]
     },
     "execution_count": 55,
     "metadata": {},
     "output_type": "execute_result"
    }
   ],
   "source": [
    "#Looking for few examples for validation\n",
    "predictions[10],testingDataX[10]"
   ]
  },
  {
   "cell_type": "code",
   "execution_count": null,
   "id": "9a1363fc-d910-49a5-9bd6-dc5b236a3b4d",
   "metadata": {},
   "outputs": [],
   "source": []
  }
 ],
 "metadata": {
  "kernelspec": {
   "display_name": "Python 3 (ipykernel)",
   "language": "python",
   "name": "python3"
  },
  "language_info": {
   "codemirror_mode": {
    "name": "ipython",
    "version": 3
   },
   "file_extension": ".py",
   "mimetype": "text/x-python",
   "name": "python",
   "nbconvert_exporter": "python",
   "pygments_lexer": "ipython3",
   "version": "3.10.10"
  }
 },
 "nbformat": 4,
 "nbformat_minor": 5
}
